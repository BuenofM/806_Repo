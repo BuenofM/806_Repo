{
 "cells": [
  {
   "cell_type": "markdown",
   "metadata": {},
   "source": [
    "# Introduction To Probability\n",
    "## Challenge 1\n",
    "\n",
    "A and B are events of a probability space with $(\\omega, \\sigma, P)$ such that $P(A) = 0.3$, $P(B) = 0.6$ and $P(A \\cap B) = 0.1$\n",
    "\n",
    "Which of the following statements are false?\n",
    "* $P(A \\cup B) = 0.6$\n",
    "* $P(A \\cap B^{C}) = 0.2$\n",
    "* $P(A \\cap (B \\cup B^{C})) = 0.4$\n",
    "* $P(A^{C} \\cap B^{C}) = 0.3$\n",
    "* $P((A \\cap B)^{C}) = 0.9$"
   ]
  },
  {
   "cell_type": "markdown",
   "metadata": {},
   "source": [
    "### Reminder\n",
    "\n",
    "𝜔 = Omega  \n",
    "𝜎 = Sigma  \n",
    "  \n",
    "  \n",
    "$∩$ = **intersection**  \n",
    "*probability that BOTH events A AND B occur*  \n",
    "`P(A ∩ B) = P(A) * P(B/A)`   \n",
    "   \n",
    "$∪$ = **union**  \n",
    "*probability that EITHER events A OR B occur*  \n",
    "`P(A ∪ B) = P(A) + P(B) - P(A ∩ B)`  \n",
    "  \n",
    "$^{C}$ = **complement**   \n",
    "*probability that event A WILL NOT occur*  \n",
    "`P(A^𝐶)=1−P(A)`"
   ]
  },
  {
   "cell_type": "code",
   "execution_count": 103,
   "metadata": {},
   "outputs": [],
   "source": [
    "#P(A)\n",
    "probA=0.3\n",
    "\n",
    "\n",
    "#P(B)\n",
    "probB=0.6\n",
    "\n",
    "#P(A∩B)\n",
    "#probability A and B\n",
    "probAandB=0.1"
   ]
  },
  {
   "cell_type": "code",
   "execution_count": 109,
   "metadata": {},
   "outputs": [
    {
     "name": "stdout",
     "output_type": "stream",
     "text": [
      "P(A ∪ B) = 0.7999999999999999 \n",
      "Statement is false.\n"
     ]
    }
   ],
   "source": [
    "#statement: P(A ∪ B) = 0.6 \n",
    "\n",
    "#probability of either A or B\n",
    "#P(A ∪ B)\n",
    "#P(A) + P(B) - P(A ∩ B)\n",
    "#probA + probB - probAandB\n",
    "\n",
    "probAorB = probA + probB - probAandB\n",
    "\n",
    "if probAorB == 0.6:\n",
    "    print('P(A ∪ B) =',probAorB,'\\nStatement is correct.')\n",
    "else:\n",
    "    print('P(A ∪ B) =',probAorB,'\\nStatement is false.')"
   ]
  },
  {
   "cell_type": "code",
   "execution_count": 110,
   "metadata": {},
   "outputs": [
    {
     "name": "stdout",
     "output_type": "stream",
     "text": [
      "P(A ∩ B^𝐶) = 0.4 \n",
      "Statement is false.\n"
     ]
    }
   ],
   "source": [
    "#statement: P(A ∩ B^𝐶) = 0.2\n",
    "\n",
    "# probability of A occurring and B not occurring \n",
    "# P(A) * P(B^𝐶/A)\n",
    "# probA * (probBnot / probA) \n",
    "# probA * ((1 - probB) / probA)\n",
    "\n",
    "probAandnotB = probA * ((1 - probB) / probA)   \n",
    "\n",
    "if probAandnotB == 0.2:\n",
    "    print('P(A ∩ B^𝐶) =',probAandnotB,'\\nStatement is correct.')\n",
    "else:\n",
    "    print('P(A ∩ B^𝐶) =',probAandnotB,'\\nStatement is false.')"
   ]
  },
  {
   "cell_type": "code",
   "execution_count": 111,
   "metadata": {},
   "outputs": [],
   "source": [
    "probBnot = (1 - probB)\n",
    "probAnot = (1 - probA)"
   ]
  },
  {
   "cell_type": "code",
   "execution_count": 112,
   "metadata": {},
   "outputs": [
    {
     "name": "stdout",
     "output_type": "stream",
     "text": [
      "P(A ∩ B^𝐶) = 0.6 \n",
      "Statement is false.\n"
     ]
    }
   ],
   "source": [
    "#statement: P(A ∩ (B ∪ B^𝐶)) = 0.4\n",
    "\n",
    "#P(A ∩ (B ∪ B^𝐶))\n",
    "#probA ∩ (probB ∪ probBnot)\n",
    "\n",
    "#first we can calculate (probB ∪ probBnot) in one variable h\n",
    "#h = (B ∪ B^𝐶) \n",
    "#h = probB ∪ probBnot\n",
    "#h = probB + probBnot - (probB ∩ probBnot)\n",
    "#h = probB + probBnot - (probB * (probBnot/probB))\n",
    "h = probB + probBnot - (probB * (probBnot/probB))\n",
    "\n",
    "#probA ∩ h\n",
    "x = probA * (h/probA)\n",
    "\n",
    "if x == 0.4:\n",
    "    print('P(A ∩ B^𝐶) =',x,'\\nStatement is correct.')\n",
    "else:\n",
    "    print('P(A ∩ B^𝐶) =',x,'\\nStatement is false.')"
   ]
  },
  {
   "cell_type": "code",
   "execution_count": 113,
   "metadata": {},
   "outputs": [
    {
     "name": "stdout",
     "output_type": "stream",
     "text": [
      "P(A ∩ B^𝐶) = 0.4 \n",
      "Statement is false.\n"
     ]
    }
   ],
   "source": [
    "#statement: P(A^𝐶 ∩ B^𝐶) = 0.3\n",
    "\n",
    "#y = P(A^𝐶 ∩ B^𝐶)\n",
    "#y = probAnot ∩ probBnot\n",
    "y = probAnot * (probBnot / probAnot)\n",
    "\n",
    "if y == 0.3:\n",
    "    print('P(A ∩ B^𝐶) =',y,'\\nStatement is correct.')\n",
    "else:\n",
    "    print('P(A ∩ B^𝐶) =',y,'\\nStatement is false.')"
   ]
  },
  {
   "cell_type": "code",
   "execution_count": 115,
   "metadata": {},
   "outputs": [
    {
     "name": "stdout",
     "output_type": "stream",
     "text": [
      "P(A ∩ B^𝐶) = 0.9 \n",
      "Statement is correct.\n"
     ]
    }
   ],
   "source": [
    "# P((A ∩ B)^𝐶) = 0.9\n",
    "# P((A ∩ B)^𝐶)\n",
    "# probAandB^𝐶 \n",
    "\n",
    "probAandBnot = (1 - probAandB)\n",
    "\n",
    "if probAandBnot == 0.9:\n",
    "    print('P(A ∩ B^𝐶) =',probAandBnot,'\\nStatement is correct.')\n",
    "else:\n",
    "    print('P(A ∩ B^𝐶) =',probAandBnot,'\\nStatement is false.')"
   ]
  },
  {
   "cell_type": "markdown",
   "metadata": {},
   "source": [
    "## Challenge 2\n",
    "There is a box with 10 white balls, 12 red balls and 8 black balls. Calculate the probability of:\n",
    "* Taking a white ball out.\n",
    "* Taking a white ball out after taking a black ball out.\n",
    "* Taking a red ball out after taking a black and a red ball out.\n",
    "* Taking a red ball out after taking a black and a red ball out with reposition.\n",
    "\n",
    "**Hint**: Reposition means putting back the ball into the box after taking it out."
   ]
  },
  {
   "cell_type": "code",
   "execution_count": 14,
   "metadata": {},
   "outputs": [],
   "source": [
    "def probability_calculator(event_outcomes, sample_space):\n",
    "    probability = (event_outcomes / sample_space)\n",
    "    return probability"
   ]
  },
  {
   "cell_type": "code",
   "execution_count": 121,
   "metadata": {},
   "outputs": [
    {
     "name": "stdout",
     "output_type": "stream",
     "text": [
      "Probability of taking out a white ball: 0.3333333333333333 \n",
      "Probability of taking out a red ball: 0.4 \n",
      "Probability of taking out a black ball: 0.26666666666666666\n"
     ]
    }
   ],
   "source": [
    "proba_white = probability_calculator(white_balls,total_balls)\n",
    "proba_red = probability_calculator(red_balls,total_balls)\n",
    "proba_black = probability_calculator(black_balls,total_balls)\n",
    "\n",
    "print('Probability of taking out a white ball:',proba_white,\n",
    "      '\\nProbability of taking out a red ball:',proba_red,\n",
    "      '\\nProbability of taking out a black ball:',proba_black)"
   ]
  },
  {
   "cell_type": "markdown",
   "metadata": {},
   "source": [
    "`P(A ∩ B) = P(A) * P(B/A)`\n",
    "\n",
    "`P(A ∪ B) = P(A) + P(B) - P(A ∩ B)`"
   ]
  },
  {
   "cell_type": "code",
   "execution_count": 126,
   "metadata": {},
   "outputs": [],
   "source": [
    "white_balls=10\n",
    "red_balls=12\n",
    "black_balls=8\n",
    "\n",
    "total_balls=30"
   ]
  },
  {
   "cell_type": "code",
   "execution_count": 127,
   "metadata": {},
   "outputs": [
    {
     "data": {
      "text/plain": [
       "0.3333333333333333"
      ]
     },
     "execution_count": 127,
     "metadata": {},
     "output_type": "execute_result"
    }
   ],
   "source": [
    "# Probability of taking a white ball\n",
    "w = 10 / 30\n",
    "w"
   ]
  },
  {
   "cell_type": "code",
   "execution_count": 128,
   "metadata": {},
   "outputs": [
    {
     "data": {
      "text/plain": [
       "0.3333333333333333"
      ]
     },
     "execution_count": 128,
     "metadata": {},
     "output_type": "execute_result"
    }
   ],
   "source": [
    "# Probability of taking a white ball after black ball\n",
    "\n",
    "# P(B∩W)\n",
    "# P(B) * P(W/B)\n",
    "bw = (8/30)*((10/30)/(8/30))\n",
    "# = 8/30 * 10/29\n",
    "bw"
   ]
  },
  {
   "cell_type": "code",
   "execution_count": 31,
   "metadata": {},
   "outputs": [
    {
     "data": {
      "text/plain": [
       "0.3448275862068966"
      ]
     },
     "execution_count": 31,
     "metadata": {},
     "output_type": "execute_result"
    }
   ],
   "source": [
    "proba_white_after_black"
   ]
  },
  {
   "cell_type": "code",
   "execution_count": 32,
   "metadata": {},
   "outputs": [],
   "source": [
    "# Probability of taking a red ball after black and red ball \n",
    "\n",
    "#P(R∩R∩B)=P(R∩B).P(R/R∩B)=P(B).P(R/B).P(R/R.B) = 8/30 * 12/29 * 11/28"
   ]
  },
  {
   "cell_type": "code",
   "execution_count": 33,
   "metadata": {},
   "outputs": [
    {
     "data": {
      "text/plain": [
       "0.39285714285714285"
      ]
     },
     "execution_count": 33,
     "metadata": {},
     "output_type": "execute_result"
    }
   ],
   "source": [
    "proba_red_after_black_and_red"
   ]
  },
  {
   "cell_type": "code",
   "execution_count": null,
   "metadata": {},
   "outputs": [],
   "source": [
    "# Probability of taking a red ball after black and red ball, with reposition \n",
    "\n",
    "# P(R∩R∩B)=P(R)P(R)P(B)=8/30*12/30*"
   ]
  },
  {
   "cell_type": "code",
   "execution_count": 35,
   "metadata": {},
   "outputs": [
    {
     "data": {
      "text/plain": [
       "0.4"
      ]
     },
     "execution_count": 35,
     "metadata": {},
     "output_type": "execute_result"
    }
   ],
   "source": [
    "proba_red_after_black_and_red_withrepo"
   ]
  },
  {
   "cell_type": "markdown",
   "metadata": {},
   "source": [
    "## Challenge 3\n",
    "\n",
    "You are planning to go on a picnic today but the morning is cloudy. You hate rain so you don't know whether to go out or stay home! To help you make a decision, you gather the following data about rainy days:\n",
    "\n",
    "* 50% of all rainy days start off cloudy!\n",
    "* Cloudy mornings are common. About 40% of days start cloudy. \n",
    "* This month is usually dry so only 3 of 30 days (10%) tend to be rainy. \n",
    "\n",
    "What is the chance of rain during the day?"
   ]
  },
  {
   "cell_type": "code",
   "execution_count": null,
   "metadata": {},
   "outputs": [],
   "source": [
    "#A: it rains\n",
    "#B: it is cloudy\n",
    "\n",
    "P(A/B)=\n",
    "p(B/A)*p(A)/p(B)=\n",
    "1/2 * 1/10 // 4/10 = 0.125 = 1/8\n",
    "\n",
    "chance_of_rain = "
   ]
  },
  {
   "cell_type": "markdown",
   "metadata": {},
   "source": [
    "## Challenge 4\n",
    "\n",
    "One thousand people were asked through a telephone survey whether they thought more street lighting is needed at night or not.\n",
    "\n",
    "Out of the 480 men that answered the survey, 324 said yes and 156 said no. On the other hand, out of the 520 women that answered, 351 said yes and 169 said no. \n",
    "\n",
    "We wonder if men and women have a different opinions about the street lighting matter. Is gender relevant or irrelevant to the question?\n",
    "\n",
    "Consider the following events:\n",
    "- The answer is yes, so the person that answered thinks that more street lighting is needed.\n",
    "- The person who answered is a man.\n",
    "\n",
    "We want to know if these events are independent, that is, if the fact of wanting more light depends on whether one is male or female. Are these events independent or not?\n",
    "\n",
    "**Hint**: To clearly compare the answers by gender, it is best to place the data in a table."
   ]
  },
  {
   "cell_type": "code",
   "execution_count": 57,
   "metadata": {},
   "outputs": [],
   "source": [
    "#Total population surveyed\n",
    "totpop=1000\n",
    "\n",
    "\n",
    "#Total men that answered\n",
    "M=480\n",
    "\n",
    "#men who answered yes\n",
    "My=324\n",
    "#men who answered no\n",
    "Mn=156\n",
    "\n",
    "\n",
    "#Total women that answered\n",
    "F=520\n",
    "\n",
    "#women who answered yes\n",
    "Fy=351\n",
    "#women who answered no\n",
    "Fn=169"
   ]
  },
  {
   "cell_type": "code",
   "execution_count": 58,
   "metadata": {},
   "outputs": [
    {
     "data": {
      "text/plain": [
       "0.675"
      ]
     },
     "execution_count": 58,
     "metadata": {},
     "output_type": "execute_result"
    }
   ],
   "source": [
    "#men thinking more street lighting is needed \n",
    "proba_My = (My/M)\n",
    "proba_My"
   ]
  },
  {
   "cell_type": "code",
   "execution_count": 59,
   "metadata": {},
   "outputs": [
    {
     "data": {
      "text/plain": [
       "0.325"
      ]
     },
     "execution_count": 59,
     "metadata": {},
     "output_type": "execute_result"
    }
   ],
   "source": [
    "proba_Mn = (Mn/M)\n",
    "proba_Mn"
   ]
  },
  {
   "cell_type": "code",
   "execution_count": 60,
   "metadata": {},
   "outputs": [
    {
     "data": {
      "text/plain": [
       "0.675"
      ]
     },
     "execution_count": 60,
     "metadata": {},
     "output_type": "execute_result"
    }
   ],
   "source": [
    "#women thinking more street lighting is needed \n",
    "proba_Fy = (Fy/F)\n",
    "proba_Fy"
   ]
  },
  {
   "cell_type": "code",
   "execution_count": 61,
   "metadata": {},
   "outputs": [
    {
     "data": {
      "text/plain": [
       "0.325"
      ]
     },
     "execution_count": 61,
     "metadata": {},
     "output_type": "execute_result"
    }
   ],
   "source": [
    "proba_Fn = (Fn/F)\n",
    "proba_Fn"
   ]
  },
  {
   "cell_type": "code",
   "execution_count": 63,
   "metadata": {},
   "outputs": [],
   "source": [
    "import pandas as pd "
   ]
  },
  {
   "cell_type": "code",
   "execution_count": 65,
   "metadata": {},
   "outputs": [
    {
     "data": {
      "text/html": [
       "<div>\n",
       "<style scoped>\n",
       "    .dataframe tbody tr th:only-of-type {\n",
       "        vertical-align: middle;\n",
       "    }\n",
       "\n",
       "    .dataframe tbody tr th {\n",
       "        vertical-align: top;\n",
       "    }\n",
       "\n",
       "    .dataframe thead th {\n",
       "        text-align: right;\n",
       "    }\n",
       "</style>\n",
       "<table border=\"1\" class=\"dataframe\">\n",
       "  <thead>\n",
       "    <tr style=\"text-align: right;\">\n",
       "      <th></th>\n",
       "      <th>Women</th>\n",
       "      <th>Men</th>\n",
       "    </tr>\n",
       "  </thead>\n",
       "  <tbody>\n",
       "    <tr>\n",
       "      <td>Answered YES</td>\n",
       "      <td>0.675</td>\n",
       "      <td>0.675</td>\n",
       "    </tr>\n",
       "    <tr>\n",
       "      <td>Answered NO</td>\n",
       "      <td>0.325</td>\n",
       "      <td>0.325</td>\n",
       "    </tr>\n",
       "  </tbody>\n",
       "</table>\n",
       "</div>"
      ],
      "text/plain": [
       "              Women    Men\n",
       "Answered YES  0.675  0.675\n",
       "Answered NO   0.325  0.325"
      ]
     },
     "execution_count": 65,
     "metadata": {},
     "output_type": "execute_result"
    }
   ],
   "source": [
    "surveydf = pd.DataFrame(\n",
    "    {\"Women\" : [proba_Fy,proba_Fn],\n",
    "     \"Men\" : [proba_My,proba_Mn]},\n",
    "    index = ['Answered YES', 'Answered NO'])\n",
    "surveydf"
   ]
  },
  {
   "cell_type": "code",
   "execution_count": 71,
   "metadata": {},
   "outputs": [
    {
     "name": "stdout",
     "output_type": "stream",
     "text": [
      "\n",
      "The population of men that answered yes and the population of women that answered yes is the same.\n",
      "Gender does not play a role. \n",
      "The events are independant.\n",
      "\n"
     ]
    }
   ],
   "source": [
    "print(\"\"\"\n",
    "The population of men that answered yes and the population of women that answered yes is the same.\n",
    "Gender does not play a role. \n",
    "The events are independant.\n",
    "\"\"\")"
   ]
  },
  {
   "cell_type": "code",
   "execution_count": null,
   "metadata": {},
   "outputs": [],
   "source": []
  }
 ],
 "metadata": {
  "kernelspec": {
   "display_name": "Python 3",
   "language": "python",
   "name": "python3"
  },
  "language_info": {
   "codemirror_mode": {
    "name": "ipython",
    "version": 3
   },
   "file_extension": ".py",
   "mimetype": "text/x-python",
   "name": "python",
   "nbconvert_exporter": "python",
   "pygments_lexer": "ipython3",
   "version": "3.7.4"
  }
 },
 "nbformat": 4,
 "nbformat_minor": 2
}
